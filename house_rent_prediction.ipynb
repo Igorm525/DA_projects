{
 "cells": [
  {
   "cell_type": "code",
   "execution_count": 57,
   "id": "c7645348",
   "metadata": {},
   "outputs": [],
   "source": [
    "import pandas as pd\n",
    "import numpy as np\n",
    "import seaborn as sns\n",
    "import matplotlib.pyplot as plt\n",
    "\n",
    "from sklearn import metrics\n",
    "from sklearn.model_selection import train_test_split, cross_val_score\n",
    "from sklearn.linear_model import LinearRegression\n",
    "from sklearn.tree import DecisionTreeRegressor\n",
    "from sklearn.ensemble import RandomForestRegressor\n",
    "from sklearn.svm import SVR\n",
    "from sklearn.metrics import r2_score, mean_absolute_error, mean_squared_error"
   ]
  },
  {
   "cell_type": "markdown",
   "id": "4d5f5372",
   "metadata": {},
   "source": [
    "### 1. Загружаем тестовый датасет и анализируем основные параметры"
   ]
  },
  {
   "cell_type": "code",
   "execution_count": 2,
   "id": "e8123b2d",
   "metadata": {},
   "outputs": [
    {
     "data": {
      "text/html": [
       "<div>\n",
       "<style scoped>\n",
       "    .dataframe tbody tr th:only-of-type {\n",
       "        vertical-align: middle;\n",
       "    }\n",
       "\n",
       "    .dataframe tbody tr th {\n",
       "        vertical-align: top;\n",
       "    }\n",
       "\n",
       "    .dataframe thead th {\n",
       "        text-align: right;\n",
       "    }\n",
       "</style>\n",
       "<table border=\"1\" class=\"dataframe\">\n",
       "  <thead>\n",
       "    <tr style=\"text-align: right;\">\n",
       "      <th></th>\n",
       "      <th>BHK</th>\n",
       "      <th>Rent</th>\n",
       "      <th>Size</th>\n",
       "      <th>Floor</th>\n",
       "      <th>Area Type</th>\n",
       "      <th>Area Locality</th>\n",
       "      <th>City</th>\n",
       "      <th>Furnishing Status</th>\n",
       "      <th>Tenant Preferred</th>\n",
       "      <th>Bathroom</th>\n",
       "      <th>Point of Contact</th>\n",
       "    </tr>\n",
       "    <tr>\n",
       "      <th>Posted On</th>\n",
       "      <th></th>\n",
       "      <th></th>\n",
       "      <th></th>\n",
       "      <th></th>\n",
       "      <th></th>\n",
       "      <th></th>\n",
       "      <th></th>\n",
       "      <th></th>\n",
       "      <th></th>\n",
       "      <th></th>\n",
       "      <th></th>\n",
       "    </tr>\n",
       "  </thead>\n",
       "  <tbody>\n",
       "    <tr>\n",
       "      <th>2022-05-18</th>\n",
       "      <td>2</td>\n",
       "      <td>10000</td>\n",
       "      <td>1100</td>\n",
       "      <td>Ground out of 2</td>\n",
       "      <td>Super Area</td>\n",
       "      <td>Bandel</td>\n",
       "      <td>Kolkata</td>\n",
       "      <td>Unfurnished</td>\n",
       "      <td>Bachelors/Family</td>\n",
       "      <td>2</td>\n",
       "      <td>Contact Owner</td>\n",
       "    </tr>\n",
       "    <tr>\n",
       "      <th>2022-05-13</th>\n",
       "      <td>2</td>\n",
       "      <td>20000</td>\n",
       "      <td>800</td>\n",
       "      <td>1 out of 3</td>\n",
       "      <td>Super Area</td>\n",
       "      <td>Phool Bagan, Kankurgachi</td>\n",
       "      <td>Kolkata</td>\n",
       "      <td>Semi-Furnished</td>\n",
       "      <td>Bachelors/Family</td>\n",
       "      <td>1</td>\n",
       "      <td>Contact Owner</td>\n",
       "    </tr>\n",
       "    <tr>\n",
       "      <th>2022-05-16</th>\n",
       "      <td>2</td>\n",
       "      <td>17000</td>\n",
       "      <td>1000</td>\n",
       "      <td>1 out of 3</td>\n",
       "      <td>Super Area</td>\n",
       "      <td>Salt Lake City Sector 2</td>\n",
       "      <td>Kolkata</td>\n",
       "      <td>Semi-Furnished</td>\n",
       "      <td>Bachelors/Family</td>\n",
       "      <td>1</td>\n",
       "      <td>Contact Owner</td>\n",
       "    </tr>\n",
       "    <tr>\n",
       "      <th>2022-07-04</th>\n",
       "      <td>2</td>\n",
       "      <td>10000</td>\n",
       "      <td>800</td>\n",
       "      <td>1 out of 2</td>\n",
       "      <td>Super Area</td>\n",
       "      <td>Dumdum Park</td>\n",
       "      <td>Kolkata</td>\n",
       "      <td>Unfurnished</td>\n",
       "      <td>Bachelors/Family</td>\n",
       "      <td>1</td>\n",
       "      <td>Contact Owner</td>\n",
       "    </tr>\n",
       "    <tr>\n",
       "      <th>2022-05-09</th>\n",
       "      <td>2</td>\n",
       "      <td>7500</td>\n",
       "      <td>850</td>\n",
       "      <td>1 out of 2</td>\n",
       "      <td>Carpet Area</td>\n",
       "      <td>South Dum Dum</td>\n",
       "      <td>Kolkata</td>\n",
       "      <td>Unfurnished</td>\n",
       "      <td>Bachelors</td>\n",
       "      <td>1</td>\n",
       "      <td>Contact Owner</td>\n",
       "    </tr>\n",
       "  </tbody>\n",
       "</table>\n",
       "</div>"
      ],
      "text/plain": [
       "            BHK   Rent  Size            Floor    Area Type  \\\n",
       "Posted On                                                    \n",
       "2022-05-18    2  10000  1100  Ground out of 2   Super Area   \n",
       "2022-05-13    2  20000   800       1 out of 3   Super Area   \n",
       "2022-05-16    2  17000  1000       1 out of 3   Super Area   \n",
       "2022-07-04    2  10000   800       1 out of 2   Super Area   \n",
       "2022-05-09    2   7500   850       1 out of 2  Carpet Area   \n",
       "\n",
       "                       Area Locality     City Furnishing Status  \\\n",
       "Posted On                                                         \n",
       "2022-05-18                    Bandel  Kolkata       Unfurnished   \n",
       "2022-05-13  Phool Bagan, Kankurgachi  Kolkata    Semi-Furnished   \n",
       "2022-05-16   Salt Lake City Sector 2  Kolkata    Semi-Furnished   \n",
       "2022-07-04               Dumdum Park  Kolkata       Unfurnished   \n",
       "2022-05-09             South Dum Dum  Kolkata       Unfurnished   \n",
       "\n",
       "            Tenant Preferred  Bathroom Point of Contact  \n",
       "Posted On                                                \n",
       "2022-05-18  Bachelors/Family         2    Contact Owner  \n",
       "2022-05-13  Bachelors/Family         1    Contact Owner  \n",
       "2022-05-16  Bachelors/Family         1    Contact Owner  \n",
       "2022-07-04  Bachelors/Family         1    Contact Owner  \n",
       "2022-05-09         Bachelors         1    Contact Owner  "
      ]
     },
     "execution_count": 2,
     "metadata": {},
     "output_type": "execute_result"
    }
   ],
   "source": [
    "\n",
    "rent = pd.read_csv(\"../House Rent Prediction/House_Rent_Dataset.csv\", index_col=0)\n",
    "rent.head()\n"
   ]
  },
  {
   "cell_type": "code",
   "execution_count": 3,
   "id": "30b874f4",
   "metadata": {},
   "outputs": [
    {
     "data": {
      "text/plain": [
       "(4746, 11)"
      ]
     },
     "execution_count": 3,
     "metadata": {},
     "output_type": "execute_result"
    }
   ],
   "source": [
    "rent.shape"
   ]
  },
  {
   "cell_type": "code",
   "execution_count": 4,
   "id": "0d5a03db",
   "metadata": {},
   "outputs": [
    {
     "data": {
      "text/plain": [
       "BHK                   int64\n",
       "Rent                  int64\n",
       "Size                  int64\n",
       "Floor                object\n",
       "Area Type            object\n",
       "Area Locality        object\n",
       "City                 object\n",
       "Furnishing Status    object\n",
       "Tenant Preferred     object\n",
       "Bathroom              int64\n",
       "Point of Contact     object\n",
       "dtype: object"
      ]
     },
     "execution_count": 4,
     "metadata": {},
     "output_type": "execute_result"
    }
   ],
   "source": [
    "rent.dtypes"
   ]
  },
  {
   "cell_type": "markdown",
   "id": "1adab42d",
   "metadata": {},
   "source": [
    "**BHK**: Number of Bedrooms, Hall, Kitchen.\\\n",
    "**Rent**: Rent of the Houses/Apartments/Flats.\\\n",
    "**Size**: Size of the Houses/Apartments/Flats in Square Feet.\\\n",
    "**Floor**: Houses/Apartments/Flats situated in which Floor and Total Number of Floors (Example: Ground out of 2, 3 out of 5, etc.)\\\n",
    "**Area Type**: Size of the Houses/Apartments/Flats calculated on either Super Area or Carpet Area or Build Area.\\\n",
    "**Area Locality**: Locality of the Houses/Apartments/Flats.\\\n",
    "**City**: City where the Houses/Apartments/Flats are Located.\\\n",
    "**Furnishing Status**: Furnishing Status of the Houses/Apartments/Flats, either it is Furnished or Semi-Furnished or Unfurnished.\\\n",
    "**Tenant Preferred**: Type of Tenant Preferred by the Owner or Agent.\\\n",
    "**Bathroom**: Number of Bathrooms.\\\n",
    "**Point of Contact**: Whom should you contact for more information regarding the Houses/Apartments/Flats.\\"
   ]
  },
  {
   "cell_type": "code",
   "execution_count": 5,
   "id": "e97eb059",
   "metadata": {},
   "outputs": [
    {
     "data": {
      "text/plain": [
       "BHK                  0\n",
       "Rent                 0\n",
       "Size                 0\n",
       "Floor                0\n",
       "Area Type            0\n",
       "Area Locality        0\n",
       "City                 0\n",
       "Furnishing Status    0\n",
       "Tenant Preferred     0\n",
       "Bathroom             0\n",
       "Point of Contact     0\n",
       "dtype: int64"
      ]
     },
     "execution_count": 5,
     "metadata": {},
     "output_type": "execute_result"
    }
   ],
   "source": [
    "rent.isna().sum()"
   ]
  },
  {
   "cell_type": "code",
   "execution_count": 6,
   "id": "39d0762f",
   "metadata": {},
   "outputs": [
    {
     "data": {
      "text/html": [
       "<div>\n",
       "<style scoped>\n",
       "    .dataframe tbody tr th:only-of-type {\n",
       "        vertical-align: middle;\n",
       "    }\n",
       "\n",
       "    .dataframe tbody tr th {\n",
       "        vertical-align: top;\n",
       "    }\n",
       "\n",
       "    .dataframe thead th {\n",
       "        text-align: right;\n",
       "    }\n",
       "</style>\n",
       "<table border=\"1\" class=\"dataframe\">\n",
       "  <thead>\n",
       "    <tr style=\"text-align: right;\">\n",
       "      <th></th>\n",
       "      <th>BHK</th>\n",
       "      <th>Rent</th>\n",
       "      <th>Size</th>\n",
       "      <th>Bathroom</th>\n",
       "    </tr>\n",
       "  </thead>\n",
       "  <tbody>\n",
       "    <tr>\n",
       "      <th>count</th>\n",
       "      <td>4746.000000</td>\n",
       "      <td>4.746000e+03</td>\n",
       "      <td>4746.000000</td>\n",
       "      <td>4746.000000</td>\n",
       "    </tr>\n",
       "    <tr>\n",
       "      <th>mean</th>\n",
       "      <td>2.083860</td>\n",
       "      <td>3.499345e+04</td>\n",
       "      <td>967.490729</td>\n",
       "      <td>1.965866</td>\n",
       "    </tr>\n",
       "    <tr>\n",
       "      <th>std</th>\n",
       "      <td>0.832256</td>\n",
       "      <td>7.810641e+04</td>\n",
       "      <td>634.202328</td>\n",
       "      <td>0.884532</td>\n",
       "    </tr>\n",
       "    <tr>\n",
       "      <th>min</th>\n",
       "      <td>1.000000</td>\n",
       "      <td>1.200000e+03</td>\n",
       "      <td>10.000000</td>\n",
       "      <td>1.000000</td>\n",
       "    </tr>\n",
       "    <tr>\n",
       "      <th>25%</th>\n",
       "      <td>2.000000</td>\n",
       "      <td>1.000000e+04</td>\n",
       "      <td>550.000000</td>\n",
       "      <td>1.000000</td>\n",
       "    </tr>\n",
       "    <tr>\n",
       "      <th>50%</th>\n",
       "      <td>2.000000</td>\n",
       "      <td>1.600000e+04</td>\n",
       "      <td>850.000000</td>\n",
       "      <td>2.000000</td>\n",
       "    </tr>\n",
       "    <tr>\n",
       "      <th>75%</th>\n",
       "      <td>3.000000</td>\n",
       "      <td>3.300000e+04</td>\n",
       "      <td>1200.000000</td>\n",
       "      <td>2.000000</td>\n",
       "    </tr>\n",
       "    <tr>\n",
       "      <th>max</th>\n",
       "      <td>6.000000</td>\n",
       "      <td>3.500000e+06</td>\n",
       "      <td>8000.000000</td>\n",
       "      <td>10.000000</td>\n",
       "    </tr>\n",
       "  </tbody>\n",
       "</table>\n",
       "</div>"
      ],
      "text/plain": [
       "               BHK          Rent         Size     Bathroom\n",
       "count  4746.000000  4.746000e+03  4746.000000  4746.000000\n",
       "mean      2.083860  3.499345e+04   967.490729     1.965866\n",
       "std       0.832256  7.810641e+04   634.202328     0.884532\n",
       "min       1.000000  1.200000e+03    10.000000     1.000000\n",
       "25%       2.000000  1.000000e+04   550.000000     1.000000\n",
       "50%       2.000000  1.600000e+04   850.000000     2.000000\n",
       "75%       3.000000  3.300000e+04  1200.000000     2.000000\n",
       "max       6.000000  3.500000e+06  8000.000000    10.000000"
      ]
     },
     "execution_count": 6,
     "metadata": {},
     "output_type": "execute_result"
    }
   ],
   "source": [
    "rent.describe()"
   ]
  },
  {
   "cell_type": "markdown",
   "id": "0a86b343",
   "metadata": {},
   "source": [
    "**Исследуемый датасет имеет 11 признаков, объемом 4746 строк. В датасете нет значений Null. Рассмотрим основные признаки**"
   ]
  },
  {
   "cell_type": "markdown",
   "id": "2aba5e61",
   "metadata": {},
   "source": [
    "### 2. Анализ основных признаков"
   ]
  },
  {
   "cell_type": "code",
   "execution_count": 15,
   "id": "ee55593a",
   "metadata": {},
   "outputs": [],
   "source": [
    "def univariate_plot_2(df, x=None, xlabel=None, explode=None):\n",
    "    fig, ax = plt.subplots(1, 2, figsize=(20, 7))\n",
    "    sns.countplot(data=df, x=x, ax=ax[0], order=df[x].value_counts(ascending=True).index)\n",
    "    df[x].value_counts(ascending=True).plot(kind=\"pie\", autopct=\"%1.1f%%\", ax=ax[1])\n",
    "#    ax[0].set_ylabel(ylabel=\"\")\n",
    "    ax[1].set_ylabel(ylabel=\"\")\n",
    "    ax[0].bar_label(ax[0].containers[0])\n",
    "    plt.show()"
   ]
  },
  {
   "cell_type": "code",
   "execution_count": 51,
   "id": "4da8d481",
   "metadata": {},
   "outputs": [],
   "source": [
    "def univariate_plot_3(df, x=None, xlabel=None,bar_label=True, log_scale=False):\n",
    "    fig, ax = plt.subplots(1, 1, figsize=(12, 7))\n",
    "#    sns.histplot(data=df, x=x, kde=True, ax=ax[0], log_scale=log_scale,bins=40)\n",
    "    sns.boxplot(data=df, x=x)\n",
    "    plt.show()"
   ]
  },
  {
   "cell_type": "markdown",
   "id": "45f7bac2",
   "metadata": {},
   "source": [
    "### 2.1 Число спален, залов и кухонь"
   ]
  },
  {
   "cell_type": "code",
   "execution_count": 19,
   "id": "90ad440e",
   "metadata": {},
   "outputs": [
    {
     "data": {
      "image/png": "[encoded data removed]",
      "text/plain": [
       "<Figure size 1440x504 with 2 Axes>"
      ]
     },
     "metadata": {
      "needs_background": "light"
     },
     "output_type": "display_data"
    }
   ],
   "source": [
    "univariate_plot_2(df = rent, x=\"BHK\", xlabel=\"BHK\")"
   ]
  },
  {
   "cell_type": "markdown",
   "id": "b8d67026",
   "metadata": {},
   "source": [
    "### 2.2 Арендная плата"
   ]
  },
  {
   "cell_type": "code",
   "execution_count": 52,
   "id": "242750b2",
   "metadata": {},
   "outputs": [
    {
     "data": {
      "image/png": "[encoded data removed]",
      "text/plain": [
       "<Figure size 864x504 with 1 Axes>"
      ]
     },
     "metadata": {
      "needs_background": "light"
     },
     "output_type": "display_data"
    }
   ],
   "source": [
    "univariate_plot_3(df = rent, x=\"Rent\", xlabel=\"Rent\")"
   ]
  },
  {
   "cell_type": "markdown",
   "id": "ead127e5",
   "metadata": {},
   "source": [
    "### 2.3 Площадь помещения"
   ]
  },
  {
   "cell_type": "code",
   "execution_count": 53,
   "id": "b246a252",
   "metadata": {},
   "outputs": [
    {
     "data": {
      "image/png": "[encoded data removed]",
      "text/plain": [
       "<Figure size 864x504 with 1 Axes>"
      ]
     },
     "metadata": {
      "needs_background": "light"
     },
     "output_type": "display_data"
    }
   ],
   "source": [
    "univariate_plot_3(df = rent, x=\"Size\", xlabel=\"Size\")"
   ]
  },
  {
   "cell_type": "markdown",
   "id": "e0577116",
   "metadata": {},
   "source": [
    "### 2.4 Города размещения"
   ]
  },
  {
   "cell_type": "code",
   "execution_count": 32,
   "id": "7f26b21d",
   "metadata": {},
   "outputs": [
    {
     "data": {
      "image/png": "[encoded data removed]",
      "text/plain": [
       "<Figure size 1440x504 with 2 Axes>"
      ]
     },
     "metadata": {
      "needs_background": "light"
     },
     "output_type": "display_data"
    }
   ],
   "source": [
    "univariate_plot_2(df = rent, x=\"City\", xlabel=\"City\")"
   ]
  },
  {
   "cell_type": "markdown",
   "id": "7c6ca67b",
   "metadata": {},
   "source": [
    "### 2.5 Меблировка"
   ]
  },
  {
   "cell_type": "code",
   "execution_count": 38,
   "id": "b406007c",
   "metadata": {},
   "outputs": [
    {
     "data": {
      "image/png": "[encoded data removed]",
      "text/plain": [
       "<Figure size 1440x504 with 2 Axes>"
      ]
     },
     "metadata": {
      "needs_background": "light"
     },
     "output_type": "display_data"
    }
   ],
   "source": [
    "univariate_plot_2(df = rent, x=\"Furnishing Status\", xlabel=\"Furnishing Status\")"
   ]
  },
  {
   "cell_type": "markdown",
   "id": "7e2bdf0f",
   "metadata": {},
   "source": [
    "### 2.6 Семья/одиночка"
   ]
  },
  {
   "cell_type": "code",
   "execution_count": 37,
   "id": "3ad24250",
   "metadata": {},
   "outputs": [
    {
     "data": {
      "image/png": "[encoded data removed]",
      "text/plain": [
       "<Figure size 1440x504 with 2 Axes>"
      ]
     },
     "metadata": {
      "needs_background": "light"
     },
     "output_type": "display_data"
    }
   ],
   "source": [
    "univariate_plot_2(df = rent, x=\"Tenant Preferred\", xlabel=\"Tenant Preferred\")"
   ]
  },
  {
   "cell_type": "markdown",
   "id": "f590fb6c",
   "metadata": {},
   "source": [
    "### 2.7 Число ванных комнат"
   ]
  },
  {
   "cell_type": "code",
   "execution_count": 39,
   "id": "bb616b9f",
   "metadata": {},
   "outputs": [
    {
     "data": {
      "image/png": "[encoded data removed]",
      "text/plain": [
       "<Figure size 1440x504 with 2 Axes>"
      ]
     },
     "metadata": {
      "needs_background": "light"
     },
     "output_type": "display_data"
    }
   ],
   "source": [
    "univariate_plot_2(df = rent, x=\"Bathroom\", xlabel=\"Bathroom\")"
   ]
  },
  {
   "cell_type": "markdown",
   "id": "bf317a8f",
   "metadata": {},
   "source": [
    "### 2.8 Контактное лицо"
   ]
  },
  {
   "cell_type": "code",
   "execution_count": 40,
   "id": "6514f8c5",
   "metadata": {},
   "outputs": [
    {
     "data": {
      "image/png": "[encoded data removed]",
      "text/plain": [
       "<Figure size 1440x504 with 2 Axes>"
      ]
     },
     "metadata": {
      "needs_background": "light"
     },
     "output_type": "display_data"
    }
   ],
   "source": [
    "univariate_plot_2(df = rent, x=\"Point of Contact\", xlabel=\"Point of Contact\")"
   ]
  },
  {
   "cell_type": "markdown",
   "id": "570b6518",
   "metadata": {},
   "source": [
    "### 2.9 Корреляция признаков"
   ]
  },
  {
   "cell_type": "code",
   "execution_count": 63,
   "id": "1d74ff47",
   "metadata": {},
   "outputs": [
    {
     "data": {
      "image/png": "[encoded data removed]",
      "text/plain": [
       "<Figure size 576x432 with 2 Axes>"
      ]
     },
     "metadata": {
      "needs_background": "light"
     },
     "output_type": "display_data"
    }
   ],
   "source": [
    "corr = rent.corr()\n",
    "plt.subplots(figsize=(8,6))\n",
    "sns.heatmap(corr, vmax = 1,square = False,annot=True)\n",
    "plt.show()"
   ]
  },
  {
   "cell_type": "markdown",
   "id": "f5578c14",
   "metadata": {},
   "source": [
    "### 3. Построение модели"
   ]
  },
  {
   "cell_type": "markdown",
   "id": "008a77fb",
   "metadata": {},
   "source": [
    "### 3.1 Подготовка данных "
   ]
  },
  {
   "cell_type": "markdown",
   "id": "cca23403",
   "metadata": {},
   "source": [
    "**Удалим ненужные колонки и используем унитарное кодирование (One Hot Encoding).**"
   ]
  },
  {
   "cell_type": "code",
   "execution_count": 66,
   "id": "dce51527",
   "metadata": {},
   "outputs": [
    {
     "data": {
      "text/html": [
       "<div>\n",
       "<style scoped>\n",
       "    .dataframe tbody tr th:only-of-type {\n",
       "        vertical-align: middle;\n",
       "    }\n",
       "\n",
       "    .dataframe tbody tr th {\n",
       "        vertical-align: top;\n",
       "    }\n",
       "\n",
       "    .dataframe thead th {\n",
       "        text-align: right;\n",
       "    }\n",
       "</style>\n",
       "<table border=\"1\" class=\"dataframe\">\n",
       "  <thead>\n",
       "    <tr style=\"text-align: right;\">\n",
       "      <th></th>\n",
       "      <th>BHK</th>\n",
       "      <th>Rent</th>\n",
       "      <th>Size</th>\n",
       "      <th>Area Type</th>\n",
       "      <th>City</th>\n",
       "      <th>Furnishing Status</th>\n",
       "      <th>Tenant Preferred</th>\n",
       "      <th>Bathroom</th>\n",
       "      <th>Point of Contact</th>\n",
       "    </tr>\n",
       "    <tr>\n",
       "      <th>Posted On</th>\n",
       "      <th></th>\n",
       "      <th></th>\n",
       "      <th></th>\n",
       "      <th></th>\n",
       "      <th></th>\n",
       "      <th></th>\n",
       "      <th></th>\n",
       "      <th></th>\n",
       "      <th></th>\n",
       "    </tr>\n",
       "  </thead>\n",
       "  <tbody>\n",
       "    <tr>\n",
       "      <th>2022-05-18</th>\n",
       "      <td>2</td>\n",
       "      <td>10000</td>\n",
       "      <td>1100</td>\n",
       "      <td>Super Area</td>\n",
       "      <td>Kolkata</td>\n",
       "      <td>Unfurnished</td>\n",
       "      <td>Bachelors/Family</td>\n",
       "      <td>2</td>\n",
       "      <td>Contact Owner</td>\n",
       "    </tr>\n",
       "    <tr>\n",
       "      <th>2022-05-13</th>\n",
       "      <td>2</td>\n",
       "      <td>20000</td>\n",
       "      <td>800</td>\n",
       "      <td>Super Area</td>\n",
       "      <td>Kolkata</td>\n",
       "      <td>Semi-Furnished</td>\n",
       "      <td>Bachelors/Family</td>\n",
       "      <td>1</td>\n",
       "      <td>Contact Owner</td>\n",
       "    </tr>\n",
       "    <tr>\n",
       "      <th>2022-05-16</th>\n",
       "      <td>2</td>\n",
       "      <td>17000</td>\n",
       "      <td>1000</td>\n",
       "      <td>Super Area</td>\n",
       "      <td>Kolkata</td>\n",
       "      <td>Semi-Furnished</td>\n",
       "      <td>Bachelors/Family</td>\n",
       "      <td>1</td>\n",
       "      <td>Contact Owner</td>\n",
       "    </tr>\n",
       "    <tr>\n",
       "      <th>2022-07-04</th>\n",
       "      <td>2</td>\n",
       "      <td>10000</td>\n",
       "      <td>800</td>\n",
       "      <td>Super Area</td>\n",
       "      <td>Kolkata</td>\n",
       "      <td>Unfurnished</td>\n",
       "      <td>Bachelors/Family</td>\n",
       "      <td>1</td>\n",
       "      <td>Contact Owner</td>\n",
       "    </tr>\n",
       "    <tr>\n",
       "      <th>2022-05-09</th>\n",
       "      <td>2</td>\n",
       "      <td>7500</td>\n",
       "      <td>850</td>\n",
       "      <td>Carpet Area</td>\n",
       "      <td>Kolkata</td>\n",
       "      <td>Unfurnished</td>\n",
       "      <td>Bachelors</td>\n",
       "      <td>1</td>\n",
       "      <td>Contact Owner</td>\n",
       "    </tr>\n",
       "  </tbody>\n",
       "</table>\n",
       "</div>"
      ],
      "text/plain": [
       "            BHK   Rent  Size    Area Type     City Furnishing Status  \\\n",
       "Posted On                                                              \n",
       "2022-05-18    2  10000  1100   Super Area  Kolkata       Unfurnished   \n",
       "2022-05-13    2  20000   800   Super Area  Kolkata    Semi-Furnished   \n",
       "2022-05-16    2  17000  1000   Super Area  Kolkata    Semi-Furnished   \n",
       "2022-07-04    2  10000   800   Super Area  Kolkata       Unfurnished   \n",
       "2022-05-09    2   7500   850  Carpet Area  Kolkata       Unfurnished   \n",
       "\n",
       "            Tenant Preferred  Bathroom Point of Contact  \n",
       "Posted On                                                \n",
       "2022-05-18  Bachelors/Family         2    Contact Owner  \n",
       "2022-05-13  Bachelors/Family         1    Contact Owner  \n",
       "2022-05-16  Bachelors/Family         1    Contact Owner  \n",
       "2022-07-04  Bachelors/Family         1    Contact Owner  \n",
       "2022-05-09         Bachelors         1    Contact Owner  "
      ]
     },
     "execution_count": 66,
     "metadata": {},
     "output_type": "execute_result"
    }
   ],
   "source": [
    "##Dropping unnecesaary columns from dataset\n",
    "rent = rent.drop(['Area Locality','Floor'],axis=1)\n",
    "rent.head()"
   ]
  },
  {
   "cell_type": "code",
   "execution_count": 68,
   "id": "eaee7a66",
   "metadata": {},
   "outputs": [
    {
     "data": {
      "text/html": [
       "<div>\n",
       "<style scoped>\n",
       "    .dataframe tbody tr th:only-of-type {\n",
       "        vertical-align: middle;\n",
       "    }\n",
       "\n",
       "    .dataframe tbody tr th {\n",
       "        vertical-align: top;\n",
       "    }\n",
       "\n",
       "    .dataframe thead th {\n",
       "        text-align: right;\n",
       "    }\n",
       "</style>\n",
       "<table border=\"1\" class=\"dataframe\">\n",
       "  <thead>\n",
       "    <tr style=\"text-align: right;\">\n",
       "      <th></th>\n",
       "      <th>BHK</th>\n",
       "      <th>Rent</th>\n",
       "      <th>Size</th>\n",
       "      <th>Bathroom</th>\n",
       "      <th>Area Type_Built Area</th>\n",
       "      <th>Area Type_Carpet Area</th>\n",
       "      <th>Area Type_Super Area</th>\n",
       "      <th>City_Bangalore</th>\n",
       "      <th>City_Chennai</th>\n",
       "      <th>City_Delhi</th>\n",
       "      <th>...</th>\n",
       "      <th>City_Mumbai</th>\n",
       "      <th>Furnishing Status_Furnished</th>\n",
       "      <th>Furnishing Status_Semi-Furnished</th>\n",
       "      <th>Furnishing Status_Unfurnished</th>\n",
       "      <th>Tenant Preferred_Bachelors</th>\n",
       "      <th>Tenant Preferred_Bachelors/Family</th>\n",
       "      <th>Tenant Preferred_Family</th>\n",
       "      <th>Point of Contact_Contact Agent</th>\n",
       "      <th>Point of Contact_Contact Builder</th>\n",
       "      <th>Point of Contact_Contact Owner</th>\n",
       "    </tr>\n",
       "    <tr>\n",
       "      <th>Posted On</th>\n",
       "      <th></th>\n",
       "      <th></th>\n",
       "      <th></th>\n",
       "      <th></th>\n",
       "      <th></th>\n",
       "      <th></th>\n",
       "      <th></th>\n",
       "      <th></th>\n",
       "      <th></th>\n",
       "      <th></th>\n",
       "      <th></th>\n",
       "      <th></th>\n",
       "      <th></th>\n",
       "      <th></th>\n",
       "      <th></th>\n",
       "      <th></th>\n",
       "      <th></th>\n",
       "      <th></th>\n",
       "      <th></th>\n",
       "      <th></th>\n",
       "      <th></th>\n",
       "    </tr>\n",
       "  </thead>\n",
       "  <tbody>\n",
       "    <tr>\n",
       "      <th>2022-05-18</th>\n",
       "      <td>2</td>\n",
       "      <td>10000</td>\n",
       "      <td>1100</td>\n",
       "      <td>2</td>\n",
       "      <td>0</td>\n",
       "      <td>0</td>\n",
       "      <td>1</td>\n",
       "      <td>0</td>\n",
       "      <td>0</td>\n",
       "      <td>0</td>\n",
       "      <td>...</td>\n",
       "      <td>0</td>\n",
       "      <td>0</td>\n",
       "      <td>0</td>\n",
       "      <td>1</td>\n",
       "      <td>0</td>\n",
       "      <td>1</td>\n",
       "      <td>0</td>\n",
       "      <td>0</td>\n",
       "      <td>0</td>\n",
       "      <td>1</td>\n",
       "    </tr>\n",
       "    <tr>\n",
       "      <th>2022-05-13</th>\n",
       "      <td>2</td>\n",
       "      <td>20000</td>\n",
       "      <td>800</td>\n",
       "      <td>1</td>\n",
       "      <td>0</td>\n",
       "      <td>0</td>\n",
       "      <td>1</td>\n",
       "      <td>0</td>\n",
       "      <td>0</td>\n",
       "      <td>0</td>\n",
       "      <td>...</td>\n",
       "      <td>0</td>\n",
       "      <td>0</td>\n",
       "      <td>1</td>\n",
       "      <td>0</td>\n",
       "      <td>0</td>\n",
       "      <td>1</td>\n",
       "      <td>0</td>\n",
       "      <td>0</td>\n",
       "      <td>0</td>\n",
       "      <td>1</td>\n",
       "    </tr>\n",
       "    <tr>\n",
       "      <th>2022-05-16</th>\n",
       "      <td>2</td>\n",
       "      <td>17000</td>\n",
       "      <td>1000</td>\n",
       "      <td>1</td>\n",
       "      <td>0</td>\n",
       "      <td>0</td>\n",
       "      <td>1</td>\n",
       "      <td>0</td>\n",
       "      <td>0</td>\n",
       "      <td>0</td>\n",
       "      <td>...</td>\n",
       "      <td>0</td>\n",
       "      <td>0</td>\n",
       "      <td>1</td>\n",
       "      <td>0</td>\n",
       "      <td>0</td>\n",
       "      <td>1</td>\n",
       "      <td>0</td>\n",
       "      <td>0</td>\n",
       "      <td>0</td>\n",
       "      <td>1</td>\n",
       "    </tr>\n",
       "    <tr>\n",
       "      <th>2022-07-04</th>\n",
       "      <td>2</td>\n",
       "      <td>10000</td>\n",
       "      <td>800</td>\n",
       "      <td>1</td>\n",
       "      <td>0</td>\n",
       "      <td>0</td>\n",
       "      <td>1</td>\n",
       "      <td>0</td>\n",
       "      <td>0</td>\n",
       "      <td>0</td>\n",
       "      <td>...</td>\n",
       "      <td>0</td>\n",
       "      <td>0</td>\n",
       "      <td>0</td>\n",
       "      <td>1</td>\n",
       "      <td>0</td>\n",
       "      <td>1</td>\n",
       "      <td>0</td>\n",
       "      <td>0</td>\n",
       "      <td>0</td>\n",
       "      <td>1</td>\n",
       "    </tr>\n",
       "    <tr>\n",
       "      <th>2022-05-09</th>\n",
       "      <td>2</td>\n",
       "      <td>7500</td>\n",
       "      <td>850</td>\n",
       "      <td>1</td>\n",
       "      <td>0</td>\n",
       "      <td>1</td>\n",
       "      <td>0</td>\n",
       "      <td>0</td>\n",
       "      <td>0</td>\n",
       "      <td>0</td>\n",
       "      <td>...</td>\n",
       "      <td>0</td>\n",
       "      <td>0</td>\n",
       "      <td>0</td>\n",
       "      <td>1</td>\n",
       "      <td>1</td>\n",
       "      <td>0</td>\n",
       "      <td>0</td>\n",
       "      <td>0</td>\n",
       "      <td>0</td>\n",
       "      <td>1</td>\n",
       "    </tr>\n",
       "  </tbody>\n",
       "</table>\n",
       "<p>5 rows × 22 columns</p>\n",
       "</div>"
      ],
      "text/plain": [
       "            BHK   Rent  Size  Bathroom  Area Type_Built Area  \\\n",
       "Posted On                                                      \n",
       "2022-05-18    2  10000  1100         2                     0   \n",
       "2022-05-13    2  20000   800         1                     0   \n",
       "2022-05-16    2  17000  1000         1                     0   \n",
       "2022-07-04    2  10000   800         1                     0   \n",
       "2022-05-09    2   7500   850         1                     0   \n",
       "\n",
       "            Area Type_Carpet Area  Area Type_Super Area  City_Bangalore  \\\n",
       "Posted On                                                                 \n",
       "2022-05-18                      0                     1               0   \n",
       "2022-05-13                      0                     1               0   \n",
       "2022-05-16                      0                     1               0   \n",
       "2022-07-04                      0                     1               0   \n",
       "2022-05-09                      1                     0               0   \n",
       "\n",
       "            City_Chennai  City_Delhi  ...  City_Mumbai  \\\n",
       "Posted On                             ...                \n",
       "2022-05-18             0           0  ...            0   \n",
       "2022-05-13             0           0  ...            0   \n",
       "2022-05-16             0           0  ...            0   \n",
       "2022-07-04             0           0  ...            0   \n",
       "2022-05-09             0           0  ...            0   \n",
       "\n",
       "            Furnishing Status_Furnished  Furnishing Status_Semi-Furnished  \\\n",
       "Posted On                                                                   \n",
       "2022-05-18                            0                                 0   \n",
       "2022-05-13                            0                                 1   \n",
       "2022-05-16                            0                                 1   \n",
       "2022-07-04                            0                                 0   \n",
       "2022-05-09                            0                                 0   \n",
       "\n",
       "            Furnishing Status_Unfurnished  Tenant Preferred_Bachelors  \\\n",
       "Posted On                                                               \n",
       "2022-05-18                              1                           0   \n",
       "2022-05-13                              0                           0   \n",
       "2022-05-16                              0                           0   \n",
       "2022-07-04                              1                           0   \n",
       "2022-05-09                              1                           1   \n",
       "\n",
       "            Tenant Preferred_Bachelors/Family  Tenant Preferred_Family  \\\n",
       "Posted On                                                                \n",
       "2022-05-18                                  1                        0   \n",
       "2022-05-13                                  1                        0   \n",
       "2022-05-16                                  1                        0   \n",
       "2022-07-04                                  1                        0   \n",
       "2022-05-09                                  0                        0   \n",
       "\n",
       "            Point of Contact_Contact Agent  Point of Contact_Contact Builder  \\\n",
       "Posted On                                                                      \n",
       "2022-05-18                               0                                 0   \n",
       "2022-05-13                               0                                 0   \n",
       "2022-05-16                               0                                 0   \n",
       "2022-07-04                               0                                 0   \n",
       "2022-05-09                               0                                 0   \n",
       "\n",
       "            Point of Contact_Contact Owner  \n",
       "Posted On                                   \n",
       "2022-05-18                               1  \n",
       "2022-05-13                               1  \n",
       "2022-05-16                               1  \n",
       "2022-07-04                               1  \n",
       "2022-05-09                               1  \n",
       "\n",
       "[5 rows x 22 columns]"
      ]
     },
     "execution_count": 68,
     "metadata": {},
     "output_type": "execute_result"
    }
   ],
   "source": [
    "rent = pd.get_dummies(rent, columns=['Area Type', 'City', 'Furnishing Status', 'Tenant Preferred', 'Point of Contact'])\n",
    "rent.head()"
   ]
  },
  {
   "cell_type": "markdown",
   "id": "34d577d7",
   "metadata": {},
   "source": [
    "**Разделим датасет на 2 выборки: для обучения и тестирования**"
   ]
  },
  {
   "cell_type": "code",
   "execution_count": 69,
   "id": "16b258b9",
   "metadata": {},
   "outputs": [],
   "source": [
    "X = rent.drop('Rent',axis=1)\n",
    "y = rent['Rent']"
   ]
  },
  {
   "cell_type": "code",
   "execution_count": 70,
   "id": "393fe1e6",
   "metadata": {},
   "outputs": [],
   "source": [
    "X_train, X_test, y_train, y_test = train_test_split(X, y,test_size=0.3, random_state=42)"
   ]
  },
  {
   "cell_type": "markdown",
   "id": "c3af1ddd",
   "metadata": {},
   "source": [
    "**Предобработка данных**"
   ]
  },
  {
   "cell_type": "code",
   "execution_count": 71,
   "id": "3a39200d",
   "metadata": {},
   "outputs": [],
   "source": [
    "# Scaling the data\n",
    "y_train= y_train.values.reshape(-1,1)\n",
    "y_test= y_test.values.reshape(-1,1)"
   ]
  },
  {
   "cell_type": "code",
   "execution_count": 72,
   "id": "9c08eea4",
   "metadata": {},
   "outputs": [],
   "source": [
    "from sklearn.preprocessing import StandardScaler\n",
    "sc_X = StandardScaler()\n",
    "sc_y = StandardScaler()"
   ]
  },
  {
   "cell_type": "code",
   "execution_count": 73,
   "id": "a2298351",
   "metadata": {},
   "outputs": [],
   "source": [
    "X_train = sc_X.fit_transform(X_train)\n",
    "X_test = sc_X.fit_transform(X_test)\n",
    "y_train = sc_X.fit_transform(y_train)\n",
    "y_test = sc_y.fit_transform(y_test)"
   ]
  },
  {
   "cell_type": "code",
   "execution_count": 75,
   "id": "8980c6c5",
   "metadata": {},
   "outputs": [
    {
     "name": "stdout",
     "output_type": "stream",
     "text": [
      "[[ 1.07242196  0.99751713  0.03208951 ...  1.4467584  -0.01735264\n",
      "  -1.44576366]\n",
      " [-0.11392028 -0.36341383  0.03208951 ...  1.4467584  -0.01735264\n",
      "  -1.44576366]\n",
      " [-1.30026253 -1.05017992 -1.09002997 ... -0.69120041 -0.01735264\n",
      "   0.69167598]\n",
      " ...\n",
      " [-0.11392028 -0.26260413  0.03208951 ...  1.4467584  -0.01735264\n",
      "  -1.44576366]\n",
      " [ 1.07242196  3.99030514  1.15420899 ...  1.4467584  -0.01735264\n",
      "  -1.44576366]\n",
      " [-1.30026253 -0.81390719  0.03208951 ...  1.4467584  -0.01735264\n",
      "  -1.44576366]] [[ 0.34978649]\n",
      " [ 0.47937846]\n",
      " [-0.34529773]\n",
      " ...\n",
      " [-0.18036249]\n",
      " [ 0.58540826]\n",
      " [-0.12145705]]\n"
     ]
    }
   ],
   "source": [
    "print(X_train,y_train)"
   ]
  },
  {
   "cell_type": "markdown",
   "id": "fe67a643",
   "metadata": {},
   "source": [
    "### 3.2 Построение регрессионных моделей(Supervised Learning)"
   ]
  },
  {
   "cell_type": "markdown",
   "id": "be709d95",
   "metadata": {},
   "source": [
    "**Linear Regression**"
   ]
  },
  {
   "cell_type": "code",
   "execution_count": 88,
   "id": "f1362e7f",
   "metadata": {},
   "outputs": [],
   "source": [
    "lm = LinearRegression()\n",
    "lm.fit(X_train,y_train)\n",
    "lm_prediction = lm.predict(X_test)"
   ]
  },
  {
   "cell_type": "code",
   "execution_count": 89,
   "id": "fd3fc237",
   "metadata": {},
   "outputs": [],
   "source": [
    "# Evaluation metrics\n",
    "mae_lm = metrics.mean_absolute_error(y_test, lm_prediction)\n",
    "mse_lm =  metrics.mean_squared_error(y_test, lm_prediction)\n",
    "rmse_lm =  np.sqrt(mse_lm)"
   ]
  },
  {
   "cell_type": "code",
   "execution_count": 90,
   "id": "fa0b2fee",
   "metadata": {},
   "outputs": [
    {
     "name": "stdout",
     "output_type": "stream",
     "text": [
      "MAE: 127933434032.16122\n",
      "MSE: 2.719782318968109e+22\n",
      "RMSE: 164917625467.02246\n"
     ]
    }
   ],
   "source": [
    "print('MAE:', mae_lm)\n",
    "print('MSE:', mse_lm)\n",
    "print('RMSE:', rmse_lm)"
   ]
  },
  {
   "cell_type": "code",
   "execution_count": 113,
   "id": "fac7d001",
   "metadata": {},
   "outputs": [
    {
     "data": {
      "text/plain": [
       "0.26968988240432945"
      ]
     },
     "execution_count": 113,
     "metadata": {},
     "output_type": "execute_result"
    }
   ],
   "source": [
    "lm.score(X_train, y_train)"
   ]
  },
  {
   "cell_type": "markdown",
   "id": "f5ab7074",
   "metadata": {},
   "source": [
    "**Decision Tree**"
   ]
  },
  {
   "cell_type": "code",
   "execution_count": 91,
   "id": "40d20dcf",
   "metadata": {},
   "outputs": [],
   "source": [
    "dt = DecisionTreeRegressor(random_state = 100)\n",
    "dt.fit(X_train, y_train)\n",
    "dt_prediction = dt.predict(X_test)"
   ]
  },
  {
   "cell_type": "code",
   "execution_count": 92,
   "id": "551e10df",
   "metadata": {},
   "outputs": [],
   "source": [
    "# Evaluation metrics\n",
    "mae_dt = metrics.mean_absolute_error(y_test, dt_prediction)\n",
    "mse_dt =  metrics.mean_squared_error(y_test, dt_prediction)\n",
    "rmse_dt =  np.sqrt(mse_dt)"
   ]
  },
  {
   "cell_type": "code",
   "execution_count": 93,
   "id": "009dd002",
   "metadata": {},
   "outputs": [
    {
     "name": "stdout",
     "output_type": "stream",
     "text": [
      "MAE: 0.2891475825848841\n",
      "MSE: 1.4567566488520176\n",
      "RMSE: 1.2069617429115214\n"
     ]
    }
   ],
   "source": [
    "print('MAE:', mae_dt)\n",
    "print('MSE:', mse_dt)\n",
    "print('RMSE:', rmse_dt)"
   ]
  },
  {
   "cell_type": "code",
   "execution_count": 112,
   "id": "9ee40f11",
   "metadata": {},
   "outputs": [
    {
     "data": {
      "text/plain": [
       "0.9944279646228372"
      ]
     },
     "execution_count": 112,
     "metadata": {},
     "output_type": "execute_result"
    }
   ],
   "source": [
    "dt.score(X_train, y_train)"
   ]
  },
  {
   "cell_type": "markdown",
   "id": "3c15c495",
   "metadata": {},
   "source": [
    "**Random Forest**"
   ]
  },
  {
   "cell_type": "code",
   "execution_count": 108,
   "id": "fcf389e6",
   "metadata": {},
   "outputs": [],
   "source": [
    "rf = RandomForestRegressor(n_estimators = 100)\n",
    "rf.fit(X_train, y_train.ravel())\n",
    "rf_prediction = rf.predict(X_test)"
   ]
  },
  {
   "cell_type": "code",
   "execution_count": 109,
   "id": "c4641d2b",
   "metadata": {},
   "outputs": [],
   "source": [
    "# Evaluation metrics\n",
    "mae_rf = metrics.mean_absolute_error(y_test, rf_prediction)\n",
    "mse_rf =  metrics.mean_squared_error(y_test, rf_prediction)\n",
    "rmse_rf =  np.sqrt(mse_rf)"
   ]
  },
  {
   "cell_type": "code",
   "execution_count": 110,
   "id": "d4e7dd32",
   "metadata": {},
   "outputs": [
    {
     "name": "stdout",
     "output_type": "stream",
     "text": [
      "MAE: 0.2641431510449144\n",
      "MSE: 0.7463667182329609\n",
      "RMSE: 0.8639251809230709\n"
     ]
    }
   ],
   "source": [
    "print('MAE:', mae_rf)\n",
    "print('MSE:', mse_rf)\n",
    "print('RMSE:', rmse_rf)"
   ]
  },
  {
   "cell_type": "code",
   "execution_count": 111,
   "id": "832f64ec",
   "metadata": {},
   "outputs": [
    {
     "data": {
      "text/plain": [
       "0.8730578586508353"
      ]
     },
     "execution_count": 111,
     "metadata": {},
     "output_type": "execute_result"
    }
   ],
   "source": [
    "rf.score(X_train, y_train)"
   ]
  },
  {
   "cell_type": "markdown",
   "id": "a788d02b",
   "metadata": {},
   "source": [
    "**Выводы:**\n",
    "- В данном датасете мы проанализировали основные признаки и построили их графики.\n",
    "- Также мы построили модели для предсказания стоимости арендной платы жилья в зависимости от различных признаков.\n",
    "- Все модели показали различные результаты и ошибки. В зависимости от наших задач мы можем выбрать определнную модель и использовать ее."
   ]
  }
 ],
 "metadata": {
  "kernelspec": {
   "display_name": "Python 3 (ipykernel)",
   "language": "python",
   "name": "python3"
  },
  "language_info": {
   "codemirror_mode": {
    "name": "ipython",
    "version": 3
   },
   "file_extension": ".py",
   "mimetype": "text/x-python",
   "name": "python",
   "nbconvert_exporter": "python",
   "pygments_lexer": "ipython3",
   "version": "3.9.7"
  }
 },
 "nbformat": 4,
 "nbformat_minor": 5
}
