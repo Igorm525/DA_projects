{
 "cells": [
  {
   "cell_type": "code",
   "execution_count": 1,
   "id": "29fb0e51-9cb7-4343-9be2-64a5516d4e0d",
   "metadata": {},
   "outputs": [],
   "source": [
    "import pandas as pd\n",
    "import pandahouse\n",
    "import numpy as np\n",
    "from scipy import stats\n",
    "import matplotlib.pyplot as plt\n",
    "import seaborn as sns\n",
    "from read_db.CH import Getch\n",
    "\n"
   ]
  },
  {
   "cell_type": "code",
   "execution_count": 2,
   "id": "df42b812-85e4-4d49-8d9a-3f4ca4fa3f79",
   "metadata": {},
   "outputs": [],
   "source": [
    "q = \"\"\"\n",
    "SELECT exp_group, \n",
    "       user_id,\n",
    "       countIf(action = 'like') as likes,\n",
    "       countIf(action = 'view') as views,\n",
    "       likes/views as ctr\n",
    "FROM {db}.feed_actions \n",
    "WHERE toDate(time) between '2022-05-24' and '2022-05-30'\n",
    "\n",
    "GROUP BY exp_group, user_id\n",
    "\"\"\"\n"
   ]
  },
  {
   "cell_type": "code",
   "execution_count": 3,
   "id": "e0e76768-6194-4901-b5d0-28541cdf929d",
   "metadata": {},
   "outputs": [
    {
     "data": {
      "text/html": [
       "<div>\n",
       "<style scoped>\n",
       "    .dataframe tbody tr th:only-of-type {\n",
       "        vertical-align: middle;\n",
       "    }\n",
       "\n",
       "    .dataframe tbody tr th {\n",
       "        vertical-align: top;\n",
       "    }\n",
       "\n",
       "    .dataframe thead th {\n",
       "        text-align: right;\n",
       "    }\n",
       "</style>\n",
       "<table border=\"1\" class=\"dataframe\">\n",
       "  <thead>\n",
       "    <tr style=\"text-align: right;\">\n",
       "      <th></th>\n",
       "      <th>exp_group</th>\n",
       "      <th>user_id</th>\n",
       "      <th>likes</th>\n",
       "      <th>views</th>\n",
       "      <th>ctr</th>\n",
       "    </tr>\n",
       "  </thead>\n",
       "  <tbody>\n",
       "    <tr>\n",
       "      <th>0</th>\n",
       "      <td>3</td>\n",
       "      <td>115383</td>\n",
       "      <td>9</td>\n",
       "      <td>30</td>\n",
       "      <td>0.300000</td>\n",
       "    </tr>\n",
       "    <tr>\n",
       "      <th>1</th>\n",
       "      <td>1</td>\n",
       "      <td>18392</td>\n",
       "      <td>7</td>\n",
       "      <td>32</td>\n",
       "      <td>0.218750</td>\n",
       "    </tr>\n",
       "    <tr>\n",
       "      <th>2</th>\n",
       "      <td>2</td>\n",
       "      <td>131473</td>\n",
       "      <td>14</td>\n",
       "      <td>134</td>\n",
       "      <td>0.104478</td>\n",
       "    </tr>\n",
       "    <tr>\n",
       "      <th>3</th>\n",
       "      <td>3</td>\n",
       "      <td>123580</td>\n",
       "      <td>13</td>\n",
       "      <td>48</td>\n",
       "      <td>0.270833</td>\n",
       "    </tr>\n",
       "    <tr>\n",
       "      <th>4</th>\n",
       "      <td>4</td>\n",
       "      <td>107323</td>\n",
       "      <td>5</td>\n",
       "      <td>31</td>\n",
       "      <td>0.161290</td>\n",
       "    </tr>\n",
       "    <tr>\n",
       "      <th>5</th>\n",
       "      <td>2</td>\n",
       "      <td>32420</td>\n",
       "      <td>26</td>\n",
       "      <td>128</td>\n",
       "      <td>0.203125</td>\n",
       "    </tr>\n",
       "    <tr>\n",
       "      <th>6</th>\n",
       "      <td>2</td>\n",
       "      <td>24239</td>\n",
       "      <td>40</td>\n",
       "      <td>90</td>\n",
       "      <td>0.444444</td>\n",
       "    </tr>\n",
       "    <tr>\n",
       "      <th>7</th>\n",
       "      <td>0</td>\n",
       "      <td>30319</td>\n",
       "      <td>21</td>\n",
       "      <td>110</td>\n",
       "      <td>0.190909</td>\n",
       "    </tr>\n",
       "    <tr>\n",
       "      <th>8</th>\n",
       "      <td>1</td>\n",
       "      <td>27443</td>\n",
       "      <td>2</td>\n",
       "      <td>29</td>\n",
       "      <td>0.068966</td>\n",
       "    </tr>\n",
       "    <tr>\n",
       "      <th>9</th>\n",
       "      <td>3</td>\n",
       "      <td>118359</td>\n",
       "      <td>7</td>\n",
       "      <td>38</td>\n",
       "      <td>0.184211</td>\n",
       "    </tr>\n",
       "  </tbody>\n",
       "</table>\n",
       "</div>"
      ],
      "text/plain": [
       "   exp_group  user_id  likes  views       ctr\n",
       "0          3   115383      9     30  0.300000\n",
       "1          1    18392      7     32  0.218750\n",
       "2          2   131473     14    134  0.104478\n",
       "3          3   123580     13     48  0.270833\n",
       "4          4   107323      5     31  0.161290\n",
       "5          2    32420     26    128  0.203125\n",
       "6          2    24239     40     90  0.444444\n",
       "7          0    30319     21    110  0.190909\n",
       "8          1    27443      2     29  0.068966\n",
       "9          3   118359      7     38  0.184211"
      ]
     },
     "execution_count": 3,
     "metadata": {},
     "output_type": "execute_result"
    }
   ],
   "source": [
    "df = Getch(q, db='simulator_20220620').df\n",
    "df.head(10)"
   ]
  },
  {
   "cell_type": "code",
   "execution_count": 4,
   "id": "616b169a-920b-4e32-922e-103613075a01",
   "metadata": {},
   "outputs": [
    {
     "data": {
      "text/html": [
       "<div>\n",
       "<style scoped>\n",
       "    .dataframe tbody tr th:only-of-type {\n",
       "        vertical-align: middle;\n",
       "    }\n",
       "\n",
       "    .dataframe tbody tr th {\n",
       "        vertical-align: top;\n",
       "    }\n",
       "\n",
       "    .dataframe thead th {\n",
       "        text-align: right;\n",
       "    }\n",
       "</style>\n",
       "<table border=\"1\" class=\"dataframe\">\n",
       "  <thead>\n",
       "    <tr style=\"text-align: right;\">\n",
       "      <th></th>\n",
       "      <th>user_id</th>\n",
       "      <th>likes</th>\n",
       "      <th>views</th>\n",
       "      <th>ctr</th>\n",
       "    </tr>\n",
       "    <tr>\n",
       "      <th>exp_group</th>\n",
       "      <th></th>\n",
       "      <th></th>\n",
       "      <th></th>\n",
       "      <th></th>\n",
       "    </tr>\n",
       "  </thead>\n",
       "  <tbody>\n",
       "    <tr>\n",
       "      <th>0</th>\n",
       "      <td>9999</td>\n",
       "      <td>9999</td>\n",
       "      <td>9999</td>\n",
       "      <td>9999</td>\n",
       "    </tr>\n",
       "    <tr>\n",
       "      <th>1</th>\n",
       "      <td>10079</td>\n",
       "      <td>10079</td>\n",
       "      <td>10079</td>\n",
       "      <td>10079</td>\n",
       "    </tr>\n",
       "    <tr>\n",
       "      <th>2</th>\n",
       "      <td>9952</td>\n",
       "      <td>9952</td>\n",
       "      <td>9952</td>\n",
       "      <td>9952</td>\n",
       "    </tr>\n",
       "    <tr>\n",
       "      <th>3</th>\n",
       "      <td>10049</td>\n",
       "      <td>10049</td>\n",
       "      <td>10049</td>\n",
       "      <td>10049</td>\n",
       "    </tr>\n",
       "    <tr>\n",
       "      <th>4</th>\n",
       "      <td>10070</td>\n",
       "      <td>10070</td>\n",
       "      <td>10070</td>\n",
       "      <td>10070</td>\n",
       "    </tr>\n",
       "  </tbody>\n",
       "</table>\n",
       "</div>"
      ],
      "text/plain": [
       "           user_id  likes  views    ctr\n",
       "exp_group                              \n",
       "0             9999   9999   9999   9999\n",
       "1            10079  10079  10079  10079\n",
       "2             9952   9952   9952   9952\n",
       "3            10049  10049  10049  10049\n",
       "4            10070  10070  10070  10070"
      ]
     },
     "execution_count": 4,
     "metadata": {},
     "output_type": "execute_result"
    }
   ],
   "source": [
    "df.groupby('exp_group').count()"
   ]
  },
  {
   "cell_type": "code",
   "execution_count": 5,
   "id": "13502b74-c734-4014-9ccc-bbb6df0f5498",
   "metadata": {},
   "outputs": [],
   "source": [
    "cg1 = df[df['exp_group'] == 0]\n",
    "tg1 = df[df['exp_group'] == 3]\n",
    "cg2 = df[df['exp_group'] == 1]\n",
    "tg2 = df[df['exp_group'] == 2]"
   ]
  },
  {
   "cell_type": "code",
   "execution_count": 6,
   "id": "b53f1908-4de2-44ea-be3c-c660f328192b",
   "metadata": {},
   "outputs": [],
   "source": [
    "ctr_control_1 = cg1.likes.sum()/ cg1.views.sum()\n",
    "ctr_control_2 = cg2.likes.sum()/ cg2.views.sum()"
   ]
  },
  {
   "cell_type": "markdown",
   "id": "7b483f44-7104-42e1-b878-d108d9baa845",
   "metadata": {},
   "source": [
    "### GROUP 0,3"
   ]
  },
  {
   "cell_type": "code",
   "execution_count": 7,
   "id": "a5e14cfe-9da8-46fb-9f4b-bf7146723e6c",
   "metadata": {},
   "outputs": [
    {
     "name": "stderr",
     "output_type": "stream",
     "text": [
      "/tmp/ipykernel_48/2276889563.py:1: SettingWithCopyWarning: \n",
      "A value is trying to be set on a copy of a slice from a DataFrame.\n",
      "Try using .loc[row_indexer,col_indexer] = value instead\n",
      "\n",
      "See the caveats in the documentation: https://pandas.pydata.org/pandas-docs/stable/user_guide/indexing.html#returning-a-view-versus-a-copy\n",
      "  cg1['linearized_likes'] = cg1['likes'] - ctr_control_1*cg1['views']\n",
      "/tmp/ipykernel_48/2276889563.py:2: SettingWithCopyWarning: \n",
      "A value is trying to be set on a copy of a slice from a DataFrame.\n",
      "Try using .loc[row_indexer,col_indexer] = value instead\n",
      "\n",
      "See the caveats in the documentation: https://pandas.pydata.org/pandas-docs/stable/user_guide/indexing.html#returning-a-view-versus-a-copy\n",
      "  tg1['linearized_likes'] = tg1['likes'] - ctr_control_1*tg1['views']\n"
     ]
    }
   ],
   "source": [
    "cg1['linearized_likes'] = cg1['likes'] - ctr_control_1*cg1['views']\n",
    "tg1['linearized_likes'] = tg1['likes'] - ctr_control_1*tg1['views']"
   ]
  },
  {
   "cell_type": "code",
   "execution_count": null,
   "id": "c29b70fd-a674-4067-8203-761a6b851183",
   "metadata": {},
   "outputs": [],
   "source": []
  },
  {
   "cell_type": "code",
   "execution_count": 11,
   "id": "e4f5a228-bf8e-4d0a-8b90-d90ff1bd2b4b",
   "metadata": {},
   "outputs": [
    {
     "data": {
      "text/plain": [
       "Ttest_indResult(statistic=-15.214995460903827, pvalue=5.4914249479690016e-52)"
      ]
     },
     "execution_count": 11,
     "metadata": {},
     "output_type": "execute_result"
    }
   ],
   "source": [
    "stats.ttest_ind(cg1.linearized_likes,\n",
    "                tg1.linearized_likes,\n",
    "                equal_var=False) # p value стало \"прокрашивать\" различие."
   ]
  },
  {
   "cell_type": "code",
   "execution_count": 25,
   "id": "1720056c-667d-40d5-8126-5a076ab2d600",
   "metadata": {},
   "outputs": [
    {
     "data": {
      "text/plain": [
       "<AxesSubplot:xlabel='linearized_likes', ylabel='Count'>"
      ]
     },
     "execution_count": 25,
     "metadata": {},
     "output_type": "execute_result"
    },
    {
     "data": {
      "image/png": "[encoded data removed]",
      "text/plain": [
       "<Figure size 864x432 with 1 Axes>"
      ]
     },
     "metadata": {},
     "output_type": "display_data"
    }
   ],
   "source": [
    "sns.set()\n",
    "plt.figure(figsize = (12,6))\n",
    "sns.histplot(cg1, x = 'linearized_likes', alpha = 0.5, kde=False, color=\"red\")\n",
    "sns.histplot(tg1, x = 'linearized_likes', alpha = 0.4, kde=False, color=\"green\")"
   ]
  },
  {
   "cell_type": "markdown",
   "id": "f093f167-8a7d-41e9-99bd-4ca695286b2e",
   "metadata": {},
   "source": [
    "### GROUP 1,2"
   ]
  },
  {
   "cell_type": "code",
   "execution_count": 9,
   "id": "34804253-9ff2-4d89-95ab-07cbe6fa7848",
   "metadata": {},
   "outputs": [
    {
     "name": "stderr",
     "output_type": "stream",
     "text": [
      "/tmp/ipykernel_48/1164081196.py:1: SettingWithCopyWarning: \n",
      "A value is trying to be set on a copy of a slice from a DataFrame.\n",
      "Try using .loc[row_indexer,col_indexer] = value instead\n",
      "\n",
      "See the caveats in the documentation: https://pandas.pydata.org/pandas-docs/stable/user_guide/indexing.html#returning-a-view-versus-a-copy\n",
      "  cg2['linearized_likes'] = cg2['likes'] - ctr_control_2*cg2['views']\n",
      "/tmp/ipykernel_48/1164081196.py:2: SettingWithCopyWarning: \n",
      "A value is trying to be set on a copy of a slice from a DataFrame.\n",
      "Try using .loc[row_indexer,col_indexer] = value instead\n",
      "\n",
      "See the caveats in the documentation: https://pandas.pydata.org/pandas-docs/stable/user_guide/indexing.html#returning-a-view-versus-a-copy\n",
      "  tg2['linearized_likes'] = tg2['likes'] - ctr_control_2*tg2['views']\n"
     ]
    }
   ],
   "source": [
    "cg2['linearized_likes'] = cg2['likes'] - ctr_control_2*cg2['views']\n",
    "tg2['linearized_likes'] = tg2['likes'] - ctr_control_2*tg2['views']"
   ]
  },
  {
   "cell_type": "code",
   "execution_count": 11,
   "id": "c1a38e76-a923-40fd-b985-b2be22c08a76",
   "metadata": {},
   "outputs": [
    {
     "data": {
      "text/plain": [
       "Ttest_indResult(statistic=6.122579994775972, pvalue=9.439432187037712e-10)"
      ]
     },
     "execution_count": 11,
     "metadata": {},
     "output_type": "execute_result"
    }
   ],
   "source": [
    "stats.ttest_ind(cg2.linearized_likes,\n",
    "                tg2.linearized_likes,\n",
    "                equal_var=False) "
   ]
  },
  {
   "cell_type": "markdown",
   "id": "1eac5ee8-5b51-449a-8380-82b8feb85c58",
   "metadata": {},
   "source": [
    "**p value стало \"прокрашивать\" различие.**"
   ]
  },
  {
   "cell_type": "code",
   "execution_count": 24,
   "id": "217ee606-8f3e-481a-8421-9690143dd659",
   "metadata": {},
   "outputs": [
    {
     "data": {
      "text/plain": [
       "<AxesSubplot:xlabel='linearized_likes', ylabel='Count'>"
      ]
     },
     "execution_count": 24,
     "metadata": {},
     "output_type": "execute_result"
    },
    {
     "data": {
      "image/png": "[encoded data removed]",
      "text/plain": [
       "<Figure size 864x432 with 1 Axes>"
      ]
     },
     "metadata": {},
     "output_type": "display_data"
    }
   ],
   "source": [
    "sns.set()\n",
    "plt.figure(figsize = (12,6))\n",
    "sns.histplot(cg2, x = 'linearized_likes', alpha = 0.4, kde=False, color=\"red\")\n",
    "sns.histplot(tg2, x = 'linearized_likes', alpha = 0.4, kde=False, color=\"green\")"
   ]
  },
  {
   "cell_type": "markdown",
   "id": "acef3c36-09a4-4e0d-a2c6-576e1304c0db",
   "metadata": {},
   "source": [
    "**Проанализировав результаты Т-теста по метрике линеаризованных лайков на группах обоих тестов, можно сделать вывод что данный тест показывает хорошие результаты как на нормализованных данных, так и на ненормализованных.**"
   ]
  }
 ],
 "metadata": {
  "kernelspec": {
   "display_name": "Python 3 (ipykernel)",
   "language": "python",
   "name": "python3"
  },
  "language_info": {
   "codemirror_mode": {
    "name": "ipython",
    "version": 3
   },
   "file_extension": ".py",
   "mimetype": "text/x-python",
   "name": "python",
   "nbconvert_exporter": "python",
   "pygments_lexer": "ipython3",
   "version": "3.8.10"
  }
 },
 "nbformat": 4,
 "nbformat_minor": 5
}
